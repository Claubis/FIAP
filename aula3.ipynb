{
 "cells": [
  {
   "attachments": {},
   "cell_type": "markdown",
   "metadata": {},
   "source": [
    "# Aula do dia 29/08/2023\n",
    "\n",
    "# Criação de váriavel com input de dados pelo usuário;"
   ]
  },
  {
   "cell_type": "code",
   "execution_count": 1,
   "metadata": {},
   "outputs": [
    {
     "name": "stdout",
     "output_type": "stream",
     "text": [
      "25\n",
      "200\n"
     ]
    }
   ],
   "source": [
    "\n",
    "\n",
    "x = input(\"Insira aqui seu nome\")\n",
    "\n",
    "idade = input('Informe sua idade')\n",
    "\n",
    "print(idade)\n",
    "\n",
    "idade = 200\n",
    "\n",
    "print(idade)"
   ]
  },
  {
   "attachments": {},
   "cell_type": "markdown",
   "metadata": {},
   "source": [
    "Ideal colocar a várivel neste modelo: nome_nome, tentar seguir esse modelo somente para python. Java é um pouco diferente dependendo da ação. "
   ]
  },
  {
   "cell_type": "code",
   "execution_count": 3,
   "metadata": {},
   "outputs": [],
   "source": [
    "nome = 'Vagner'\n",
    "idade = 37\n",
    "altura = 1.70\n",
    "usuario_python = True"
   ]
  },
  {
   "cell_type": "code",
   "execution_count": 7,
   "metadata": {},
   "outputs": [
    {
     "data": {
      "text/plain": [
       "bool"
      ]
     },
     "execution_count": 7,
     "metadata": {},
     "output_type": "execute_result"
    }
   ],
   "source": [
    "# Aqui vou verificar o tipo de cada variavel\n",
    "type(nome),\n"
   ]
  },
  {
   "cell_type": "code",
   "execution_count": 8,
   "metadata": {},
   "outputs": [
    {
     "data": {
      "text/plain": [
       "int"
      ]
     },
     "execution_count": 8,
     "metadata": {},
     "output_type": "execute_result"
    }
   ],
   "source": [
    "type(idade)\n"
   ]
  },
  {
   "cell_type": "code",
   "execution_count": 9,
   "metadata": {},
   "outputs": [
    {
     "data": {
      "text/plain": [
       "float"
      ]
     },
     "execution_count": 9,
     "metadata": {},
     "output_type": "execute_result"
    }
   ],
   "source": [
    "type(altura)\n"
   ]
  },
  {
   "cell_type": "code",
   "execution_count": 10,
   "metadata": {},
   "outputs": [
    {
     "data": {
      "text/plain": [
       "bool"
      ]
     },
     "execution_count": 10,
     "metadata": {},
     "output_type": "execute_result"
    }
   ],
   "source": [
    "type(usuario_python)"
   ]
  },
  {
   "attachments": {},
   "cell_type": "markdown",
   "metadata": {},
   "source": [
    "Posso alterar o tipo da minha váriavel a qualquer momento do código, mas preciso prestar atenção pois posso quebrar o código se eu tentar fazer alguma ação, imaginando que a váriavel possui o mesmo tipo do inicio."
   ]
  },
  {
   "cell_type": "code",
   "execution_count": 11,
   "metadata": {},
   "outputs": [
    {
     "data": {
      "text/plain": [
       "'37.00'"
      ]
     },
     "execution_count": 11,
     "metadata": {},
     "output_type": "execute_result"
    }
   ],
   "source": [
    "# Aqui eu formato a quantidade de casas decimais, conforme minha necessidade. Preciso seguir com o uso do F-String.\n",
    "f'{idade:.2f}'"
   ]
  },
  {
   "cell_type": "code",
   "execution_count": 15,
   "metadata": {},
   "outputs": [
    {
     "name": "stdout",
     "output_type": "stream",
     "text": [
      "False\n",
      "True\n"
     ]
    }
   ],
   "source": [
    "# Teste para saber se uma palavra está presente na frase\n",
    "txt = \"The best things in life are free!\"\n",
    "print(\"no\" in txt)\n",
    "\n",
    "txt = \"The best things in life are free!\"\n",
    "print(\"best\" in txt)"
   ]
  },
  {
   "attachments": {},
   "cell_type": "markdown",
   "metadata": {},
   "source": [
    "xor ou ^ == condição para saber se tem apenas uma condição verdadeira. Se tiver na mesma condição duas opções verdadeiras, já não atende essa opção. Diferente do OR, que pode ter uma ou mais condições verdadeiras ou falsas.\n"
   ]
  }
 ],
 "metadata": {
  "kernelspec": {
   "display_name": "Python 3",
   "language": "python",
   "name": "python3"
  },
  "language_info": {
   "codemirror_mode": {
    "name": "ipython",
    "version": 3
   },
   "file_extension": ".py",
   "mimetype": "text/x-python",
   "name": "python",
   "nbconvert_exporter": "python",
   "pygments_lexer": "ipython3",
   "version": "3.10.9"
  },
  "orig_nbformat": 4
 },
 "nbformat": 4,
 "nbformat_minor": 2
}
