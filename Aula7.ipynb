{
 "cells": [
  {
   "cell_type": "code",
   "execution_count": 3,
   "metadata": {},
   "outputs": [
    {
     "name": "stdout",
     "output_type": "stream",
     "text": [
      "1\n",
      "2\n",
      "3\n"
     ]
    }
   ],
   "source": [
    "for i in [1,2,3]:\n",
    "    print(i)"
   ]
  },
  {
   "cell_type": "code",
   "execution_count": 4,
   "metadata": {},
   "outputs": [
    {
     "name": "stdout",
     "output_type": "stream",
     "text": [
      "c\n",
      "l\n",
      "a\n",
      "u\n",
      "d\n",
      "i\n",
      "o\n",
      " \n",
      "b\n",
      "i\n",
      "s\n",
      "p\n",
      "o\n"
     ]
    }
   ],
   "source": [
    "for i in 'claudio bispo':\n",
    "    print(i)"
   ]
  },
  {
   "cell_type": "code",
   "execution_count": null,
   "metadata": {},
   "outputs": [],
   "source": []
  },
  {
   "attachments": {},
   "cell_type": "markdown",
   "metadata": {},
   "source": [
    "Montar lista de compra que tenha Produto e quantidade"
   ]
  },
  {
   "cell_type": "code",
   "execution_count": 18,
   "metadata": {},
   "outputs": [],
   "source": [
    "produto = {\"Maça\":12, \"Banana\":5, \"Pera\":10, \"Uva\":1, \"Maracuja\":6, \"Mamão\":20}\n",
    "    "
   ]
  },
  {
   "cell_type": "code",
   "execution_count": 13,
   "metadata": {},
   "outputs": [],
   "source": [
    "produto2 = [\n",
    "    {\"Maça\":12}, \n",
    "    {\"Banana\":5}, \n",
    "    {\"Pera\":10}, \n",
    "    {\"Uva\":1}, \n",
    "    {\"Maracuja\":6}, \n",
    "    {\"Mamão\":20}\n",
    "    ]"
   ]
  },
  {
   "cell_type": "code",
   "execution_count": 15,
   "metadata": {},
   "outputs": [
    {
     "data": {
      "text/plain": [
       "{'Maça': 12}"
      ]
     },
     "execution_count": 15,
     "metadata": {},
     "output_type": "execute_result"
    }
   ],
   "source": [
    "produto2[0]"
   ]
  },
  {
   "cell_type": "code",
   "execution_count": 16,
   "metadata": {},
   "outputs": [
    {
     "name": "stdout",
     "output_type": "stream",
     "text": [
      "{'Maça': 12}\n",
      "{'Banana': 5}\n",
      "{'Pera': 10}\n",
      "{'Uva': 1}\n",
      "{'Maracuja': 6}\n",
      "{'Mamão': 20}\n"
     ]
    }
   ],
   "source": [
    "for i in produto2:\n",
    "    print(i)\n",
    "    "
   ]
  },
  {
   "cell_type": "code",
   "execution_count": 22,
   "metadata": {},
   "outputs": [
    {
     "name": "stdout",
     "output_type": "stream",
     "text": [
      "Maça\n",
      "12\n",
      "Banana\n",
      "5\n",
      "Pera\n",
      "10\n",
      "Uva\n",
      "1\n",
      "Maracuja\n",
      "6\n",
      "Mamão\n",
      "20\n"
     ]
    }
   ],
   "source": [
    "for i in produto.items():\n",
    "    print(i[0])\n",
    "    print(i[1])"
   ]
  },
  {
   "cell_type": "code",
   "execution_count": 24,
   "metadata": {},
   "outputs": [],
   "source": [
    "lista = {\n",
    "    'bolacha': {'qtde':2, 'unidade':'pacote', 'tipo':'doce'},\n",
    "    'frango': {'qtde': 100, 'unidade':'g', 'tipo':'carne'},\n",
    "    'maça': {'qtde':12, 'unidade':'unitario', 'tipo':'fruta'},\n",
    "    'uva': {'qtde': 10, 'unidade':'unitario', 'tipo':'fruta'},\n",
    "    'pera': {'qtde':5, 'unidade':'unitario', 'tipo':'fruta'}\n",
    "}"
   ]
  },
  {
   "cell_type": "code",
   "execution_count": 29,
   "metadata": {},
   "outputs": [
    {
     "name": "stdout",
     "output_type": "stream",
     "text": [
      "(0, 'bolacha')\n",
      "(1, 'frango')\n",
      "(2, 'maça')\n",
      "(3, 'uva')\n",
      "(4, 'pera')\n"
     ]
    }
   ],
   "source": [
    "for i in enumerate(lista):\n",
    "    print(i)"
   ]
  },
  {
   "cell_type": "code",
   "execution_count": 33,
   "metadata": {},
   "outputs": [
    {
     "name": "stdout",
     "output_type": "stream",
     "text": [
      "produto: maça - Quantidade: 12 unitario\n",
      "produto: uva - Quantidade: 10 unitario\n",
      "produto: pera - Quantidade: 5 unitario\n"
     ]
    }
   ],
   "source": [
    "for i, x in lista.items():\n",
    "    \n",
    "    qtde = x['qtde']\n",
    "    unidade = x['unidade']\n",
    "    tipo = x['tipo']\n",
    "\n",
    "    if tipo == 'fruta':\n",
    "        print(f'produto: {i} - Quantidade: {qtde} {unidade}')"
   ]
  }
 ],
 "metadata": {
  "kernelspec": {
   "display_name": "Python 3",
   "language": "python",
   "name": "python3"
  },
  "language_info": {
   "codemirror_mode": {
    "name": "ipython",
    "version": 3
   },
   "file_extension": ".py",
   "mimetype": "text/x-python",
   "name": "python",
   "nbconvert_exporter": "python",
   "pygments_lexer": "ipython3",
   "version": "3.10.9"
  },
  "orig_nbformat": 4
 },
 "nbformat": 4,
 "nbformat_minor": 2
}
